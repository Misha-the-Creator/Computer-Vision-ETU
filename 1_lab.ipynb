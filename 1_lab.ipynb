{
 "cells": [
  {
   "cell_type": "code",
   "execution_count": 18,
   "id": "d4b40aea-1ad8-4ae6-a8c7-823e5ae61e43",
   "metadata": {},
   "outputs": [],
   "source": [
    "import numpy as np\n",
    "import cv2 as cv\n",
    "import glob"
   ]
  },
  {
   "cell_type": "code",
   "execution_count": 19,
   "id": "60f7a7d7-e324-4b2b-a2de-b72270304dc6",
   "metadata": {},
   "outputs": [],
   "source": [
    "chessboard_size = (14,10)"
   ]
  },
  {
   "cell_type": "code",
   "execution_count": 20,
   "id": "03841f67-d7ca-49d1-a9be-c2453fa4ae9d",
   "metadata": {},
   "outputs": [],
   "source": [
    "criteria = (cv.TERM_CRITERIA_EPS + cv.TERM_CRITERIA_MAX_ITER, 30, 0.001)"
   ]
  },
  {
   "cell_type": "code",
   "execution_count": 21,
   "id": "93a16f3a-394a-4264-ac73-60cc35fb18d6",
   "metadata": {},
   "outputs": [],
   "source": [
    "# prepare object points, like (0,0,0), (1,0,0), (2,0,0) ....,(6,5,0)\n",
    "objp = np.zeros((chessboard_size[0]*chessboard_size[1], 3), np.float32)\n",
    "objp[:,:2] = np.mgrid[0:chessboard_size[0], 0:chessboard_size[1]].T.reshape(-1,2)"
   ]
  },
  {
   "cell_type": "code",
   "execution_count": 22,
   "id": "97c3d54f-1812-470f-be11-be3fa8b8892f",
   "metadata": {},
   "outputs": [],
   "source": [
    "# Arrays to store object points and image points from all the images.\n",
    "objpoints = [] # 3d point in real world space\n",
    "imgpoints = [] # 2d points in image plane."
   ]
  },
  {
   "cell_type": "code",
   "execution_count": 23,
   "id": "66ba77ed-38f5-45ab-9772-9154091ba732",
   "metadata": {},
   "outputs": [],
   "source": [
    "images = glob.glob('*.JPG')"
   ]
  },
  {
   "cell_type": "code",
   "execution_count": 24,
   "id": "8b2f3144-49a4-4b42-bf0f-83a73e9add4d",
   "metadata": {
    "scrolled": true
   },
   "outputs": [],
   "source": [
    "for image in images:\n",
    "    img = cv.imread(image)\n",
    "    gray = cv.cvtColor(img, cv.COLOR_BGR2GRAY)\n",
    "    \n",
    "    # Find the chess board corners\n",
    "    ret, corners = cv.findChessboardCorners(gray, chessboard_size, None)\n",
    "    \n",
    "    # If found, add object points, image points (after refining them)\n",
    "    if ret == True:\n",
    "        objpoints.append(objp)\n",
    "        \n",
    "        corners2 = cv.cornerSubPix(gray, corners, (11,11), (-1,-1), criteria)\n",
    "        imgpoints.append(corners2)\n",
    "        \n",
    "        # Draw and display the corners\n",
    "        cv.drawChessboardCorners(img, chessboard_size, corners2, ret)\n",
    "        scale_percent = 25  # Уменьшаем изображение до 50% от оригинального размера\n",
    "        width = int(img.shape[1] * scale_percent / 100)\n",
    "        height = int(img.shape[0] * scale_percent / 100)\n",
    "        dim = (width, height)\n",
    "        resized_img = cv.resize(img, dim, interpolation=cv.INTER_AREA)\n",
    "        cv.imshow('img', resized_img)\n",
    "        cv.waitKey(500)\n",
    "\n",
    "cv.destroyAllWindows()"
   ]
  },
  {
   "cell_type": "code",
   "execution_count": 25,
   "id": "3c10caad-ae10-46ba-9414-192653bb39bf",
   "metadata": {},
   "outputs": [
    {
     "name": "stdout",
     "output_type": "stream",
     "text": [
      "Camera calibrated:\n",
      "2.0045775596758424\n",
      "\n",
      "Camera matrix (внутренняя калибровка):\n",
      "[[6.05304386e+03 0.00000000e+00 2.54106629e+03]\n",
      " [0.00000000e+00 6.03790771e+03 1.30293217e+03]\n",
      " [0.00000000e+00 0.00000000e+00 1.00000000e+00]]\n",
      "\n",
      "Distortion parameters:\n",
      "[[-1.75617496e-01  3.62500911e+00  3.27014250e-03  3.28190397e-03\n",
      "  -2.11790265e+01]]\n",
      "\n",
      "Rotation vectors (внешняя калибровка):\n",
      "(array([[ 0.45590314],\n",
      "       [-0.33471187],\n",
      "       [-0.07278109]]), array([[ 0.45060017],\n",
      "       [-0.2504773 ],\n",
      "       [-0.0211829 ]]), array([[ 0.45231412],\n",
      "       [-0.08096209],\n",
      "       [ 0.01110823]]), array([[0.40956276],\n",
      "       [0.09488636],\n",
      "       [0.02728659]]), array([[0.42292284],\n",
      "       [0.09803041],\n",
      "       [0.01790061]]), array([[0.41234971],\n",
      "       [0.22872319],\n",
      "       [0.07403409]]), array([[0.38685734],\n",
      "       [0.23959846],\n",
      "       [0.06260513]]), array([[0.38663205],\n",
      "       [0.33821258],\n",
      "       [0.10402405]]), array([[0.37301525],\n",
      "       [0.28350842],\n",
      "       [0.08806543]]), array([[ 0.50062551],\n",
      "       [-0.55050942],\n",
      "       [-0.14502687]]), array([[ 0.46112461],\n",
      "       [-0.26717257],\n",
      "       [-0.03654973]]), array([[ 0.36117958],\n",
      "       [-0.02702409],\n",
      "       [ 0.00261545]]), array([[0.34703616],\n",
      "       [0.10764402],\n",
      "       [0.01437142]]), array([[ 0.38796804],\n",
      "       [-0.23055674],\n",
      "       [-0.05054311]]), array([[0.36616816],\n",
      "       [0.0187899 ],\n",
      "       [0.00505534]]), array([[0.34329573],\n",
      "       [0.07211859],\n",
      "       [0.00448127]]), array([[ 0.61254783],\n",
      "       [-0.00950457],\n",
      "       [-0.00492817]]), array([[0.59375928],\n",
      "       [0.21171849],\n",
      "       [0.05110216]]), array([[ 0.59941632],\n",
      "       [-0.30137599],\n",
      "       [-0.09089469]]), array([[ 0.09251323],\n",
      "       [-0.32754642],\n",
      "       [-0.00703918]]), array([[0.30270745],\n",
      "       [0.13315389],\n",
      "       [0.01794003]]), array([[ 0.55175161],\n",
      "       [-0.23093227],\n",
      "       [-0.02231413]]))\n",
      "\n",
      "Translation vectors (внешняя калибровка):\n",
      "(array([[-5.86132576],\n",
      "       [-3.20648934],\n",
      "       [35.54370596]]), array([[-6.23182689],\n",
      "       [-2.56579195],\n",
      "       [35.19734912]]), array([[-5.78440402],\n",
      "       [-3.18894743],\n",
      "       [36.38687134]]), array([[-6.24668357],\n",
      "       [-3.37393141],\n",
      "       [40.07647856]]), array([[-8.20364185],\n",
      "       [-3.45929383],\n",
      "       [40.39845773]]), array([[-7.20506252],\n",
      "       [-3.92384497],\n",
      "       [41.06436961]]), array([[-8.04161279],\n",
      "       [-3.1257043 ],\n",
      "       [41.79096531]]), array([[-7.42250528],\n",
      "       [-4.17015797],\n",
      "       [43.50172862]]), array([[-7.2921773 ],\n",
      "       [-4.03971195],\n",
      "       [44.44767901]]), array([[-5.47911852],\n",
      "       [-1.3378024 ],\n",
      "       [31.09781842]]), array([[-5.6559243 ],\n",
      "       [-2.76564231],\n",
      "       [34.44428296]]), array([[-6.42023588],\n",
      "       [-1.90397742],\n",
      "       [41.71735689]]), array([[-6.92089955],\n",
      "       [-2.18236427],\n",
      "       [43.858549  ]]), array([[-7.05164396],\n",
      "       [-2.99818398],\n",
      "       [34.77950127]]), array([[-8.34531335],\n",
      "       [-3.16950419],\n",
      "       [37.41478072]]), array([[-9.72234688],\n",
      "       [-3.57162776],\n",
      "       [40.23922222]]), array([[-7.24122195],\n",
      "       [-1.26568054],\n",
      "       [27.696846  ]]), array([[-9.40545922],\n",
      "       [-2.95507441],\n",
      "       [29.32686829]]), array([[-5.61691666],\n",
      "       [-1.33202702],\n",
      "       [26.40351959]]), array([[-5.34343819],\n",
      "       [-3.89207099],\n",
      "       [26.45122649]]), array([[-9.03757628],\n",
      "       [-5.33668858],\n",
      "       [32.18983177]]), array([[-5.26633393],\n",
      "       [-2.84957337],\n",
      "       [22.95187366]]))\n",
      "\n"
     ]
    }
   ],
   "source": [
    "# Калибровка\n",
    "ret, mtx, dist, rvecs, tvecs = cv.calibrateCamera(objpoints, imgpoints, gray.shape[::-1], None, None)\n",
    "\n",
    "print(f\"Camera calibrated:\\n{ret}\\n\")\n",
    "print(f\"Camera matrix (внутренняя калибровка):\\n{mtx}\\n\")\n",
    "print(f\"Distortion parameters:\\n{dist}\\n\")\n",
    "print(f\"Rotation vectors (внешняя калибровка):\\n{rvecs}\\n\")\n",
    "print(f\"Translation vectors (внешняя калибровка):\\n{tvecs}\\n\")"
   ]
  }
 ],
 "metadata": {
  "kernelspec": {
   "display_name": "Python 3 (ipykernel)",
   "language": "python",
   "name": "python3"
  },
  "language_info": {
   "codemirror_mode": {
    "name": "ipython",
    "version": 3
   },
   "file_extension": ".py",
   "mimetype": "text/x-python",
   "name": "python",
   "nbconvert_exporter": "python",
   "pygments_lexer": "ipython3",
   "version": "3.12.4"
  }
 },
 "nbformat": 4,
 "nbformat_minor": 5
}
